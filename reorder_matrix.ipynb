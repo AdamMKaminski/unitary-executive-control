{
 "cells": [
  {
   "cell_type": "code",
   "execution_count": 7,
   "id": "af2228e3-bfe6-46e5-a202-1c188055ba68",
   "metadata": {},
   "outputs": [],
   "source": [
    "import numpy as np\n",
    "import pandas as pd\n",
    "from matplotlib import pyplot as plt"
   ]
  },
  {
   "cell_type": "code",
   "execution_count": 28,
   "id": "81e8278b-3ef0-466e-bbac-c9041d363047",
   "metadata": {},
   "outputs": [],
   "source": [
    "# Function for reordering X by X matrix by specified index order\n",
    "\n",
    "def reorder_mat(mat,ordered_indices):\n",
    "\n",
    "    if len(mat) != len(ordered_indices):\n",
    "        raise ValueError(f'Length of original matrix ({len(mat)}) does not match length of new index positions ({len(ordered_indices)})')\n",
    "    else:\n",
    "        \n",
    "        size = len(mat)\n",
    "        \n",
    "        reordered_matrix = np.zeros((size,size))\n",
    "        \n",
    "        for row in range(0,size):\n",
    "            for col in range(0,size):\n",
    "\n",
    "                new_row = ordered_indices[row]\n",
    "                new_col = ordered_indices[col]\n",
    "\n",
    "                reordered_matrix[new_row,new_col] = mat[row,col]\n",
    "\n",
    "    return(reordered_matrix)"
   ]
  },
  {
   "cell_type": "code",
   "execution_count": 31,
   "id": "7241f9cb-bccf-41c4-b31b-4dfd0a92e9bd",
   "metadata": {},
   "outputs": [
    {
     "data": {
      "text/plain": [
       "array([  0,   1,   2,   3,   4,   5,   6,   7,   8,   9,  10,  11,  12,\n",
       "        13,  14,  15,  16,  17,  18,  19,  20,  21,  22,  23,  24,  25,\n",
       "        26,  27,  28,  29,  30,  61,  62,  63,  64,  65,  66,  67,  68,\n",
       "        69,  70,  71,  72,  73,  74,  75,  76,  77,  78,  79,  80,  81,\n",
       "        82,  83,  84,  85,  86,  87,  88,  89,  90,  91,  92,  93,  94,\n",
       "        95,  96,  97, 138, 139, 140, 141, 142, 143, 144, 145, 146, 147,\n",
       "       148, 149, 150, 151, 152, 153, 154, 155, 156, 157, 158, 159, 160,\n",
       "       184, 185, 186, 187, 188, 189, 190, 191, 192, 193, 194, 195, 196,\n",
       "       197, 198, 199, 200, 201, 202, 203, 204, 205, 231, 232, 233, 234,\n",
       "       235, 236, 237, 238, 239, 240, 241, 242, 243, 244, 245, 246, 247,\n",
       "       248, 249, 250, 251, 252, 283, 284, 285, 286, 287, 288, 289, 290,\n",
       "       291, 292, 293, 294, 295, 296, 297, 298, 299, 300, 301, 302, 303,\n",
       "       304, 305, 306, 307, 308, 309, 310, 311, 312, 313, 314, 315, 316,\n",
       "       317, 318, 319, 320, 321, 322, 323, 324, 325, 326, 327, 328, 329,\n",
       "       330, 331, 332, 333, 334,  31,  32,  33,  34,  35,  36,  37,  38,\n",
       "        39,  40,  41,  42,  43,  44,  45,  46,  47,  48,  49,  50,  51,\n",
       "        52,  53,  54,  55,  56,  57,  58,  59,  60,  98,  99, 100, 101,\n",
       "       102, 103, 104, 105, 106, 107, 108, 109, 110, 111, 112, 113, 114,\n",
       "       115, 116, 117, 118, 119, 120, 121, 122, 123, 124, 125, 126, 127,\n",
       "       128, 129, 130, 131, 132, 133, 134, 135, 136, 137, 161, 162, 163,\n",
       "       164, 165, 166, 167, 168, 169, 170, 171, 172, 173, 174, 175, 176,\n",
       "       177, 178, 179, 180, 181, 182, 183, 206, 207, 208, 209, 210, 211,\n",
       "       212, 213, 214, 215, 216, 217, 218, 219, 220, 221, 222, 223, 224,\n",
       "       225, 226, 227, 228, 229, 230, 253, 254, 255, 256, 257, 258, 259,\n",
       "       260, 261, 262, 263, 264, 265, 266, 267, 268, 269, 270, 271, 272,\n",
       "       273, 274, 275, 276, 277, 278, 279, 280, 281, 282, 335, 336, 337,\n",
       "       338, 339, 340, 341, 342, 343, 344, 345, 346, 347, 348, 349, 350,\n",
       "       351, 352, 353, 354, 355, 356, 357, 358, 359, 360, 361, 362, 363,\n",
       "       364, 365, 366, 367, 368, 369, 370, 371, 372, 373, 374, 381, 375,\n",
       "       382, 376, 383, 377, 384, 378, 385, 379, 386, 380, 387])"
      ]
     },
     "execution_count": 31,
     "metadata": {},
     "output_type": "execute_result"
    }
   ],
   "source": [
    "# Desired order\n",
    "\n",
    "visL = range(0,31)  \n",
    "visR = range(31,61) \n",
    "\n",
    "SomMotL = range(61,98)\n",
    "SomMotR = range(98,138)\n",
    "\n",
    "DorsAttnL = range(138,161)\n",
    "DorsAttnR = range(161,184)\n",
    "\n",
    "SalVentAttnL = range(184,206)\n",
    "SalVentAttnR = range(206,231)\n",
    "\n",
    "ContL = range(231,253)\n",
    "ContR = range(253,283)\n",
    "\n",
    "DefaultL = range(283,335)\n",
    "DefaultR = range(335,374)\n",
    "\n",
    "SubCort = [374,381,375,382,376,383,377,384,378,385,379,386,380,387]\n",
    "\n",
    "order = np.concatenate((visL,SomMotL,DorsAttnL,SalVentAttnL,ContL,DefaultL,visR,SomMotR,DorsAttnR,SalVentAttnR,ContR,DefaultR,SubCort))\n",
    "order"
   ]
  },
  {
   "cell_type": "code",
   "execution_count": 32,
   "id": "d45ff24a-a567-424b-946d-5f5991b2abe9",
   "metadata": {},
   "outputs": [
    {
     "data": {
      "image/png": "[encoded data removed]",
      "text/plain": [
       "<Figure size 432x288 with 2 Axes>"
      ]
     },
     "metadata": {
      "needs_background": "light"
     },
     "output_type": "display_data"
    },
    {
     "data": {
      "image/png": "[encoded data removed]",
      "text/plain": [
       "<Figure size 432x288 with 2 Axes>"
      ]
     },
     "metadata": {
      "needs_background": "light"
     },
     "output_type": "display_data"
    }
   ],
   "source": [
    "# Read in original matrix\n",
    "base_dir = '/home/adam/Desktop/projects/unitary/pipeline_2023/data/Oliver_data/denoised_data/'\n",
    "original_mat = pd.read_csv(f'{base_dir}/scripts/unitary-executive-control/selected_edges_binarized.csv')\n",
    "\n",
    "# Plot original\n",
    "plt.imshow(original_mat, cmap='viridis', interpolation='nearest',vmin=0.95)\n",
    "plt.title('Original Matrix')\n",
    "plt.colorbar()\n",
    "plt.show()\n",
    "\n",
    "# Reorder\n",
    "reordered_mat = reorder_mat(original_mat.values, order)\n",
    "\n",
    "# Plot reordered matrix\n",
    "plt.imshow(reordered_mat, cmap='viridis', interpolation='nearest',vmin=0.95)\n",
    "plt.title('Reordered Matrix')\n",
    "plt.colorbar()\n",
    "plt.show()\n"
   ]
  }
 ],
 "metadata": {
  "kernelspec": {
   "display_name": "Python 3 (ipykernel)",
   "language": "python",
   "name": "python3"
  },
  "language_info": {
   "codemirror_mode": {
    "name": "ipython",
    "version": 3
   },
   "file_extension": ".py",
   "mimetype": "text/x-python",
   "name": "python",
   "nbconvert_exporter": "python",
   "pygments_lexer": "ipython3",
   "version": "3.9.12"
  }
 },
 "nbformat": 4,
 "nbformat_minor": 5
}

{
 "cells": [
  {
   "cell_type": "code",
   "execution_count": 160,
   "id": "5124d3a5-2db8-4a43-a6a1-2656d0effcf0",
   "metadata": {},
   "outputs": [
    {
     "name": "stdout",
     "output_type": "stream",
     "text": [
      "Done replacing outlier frames with mean roi values!\n",
      "Done concatenating time-series of all tasks!\n",
      "Final shape is (522, 414, 75)\n"
     ]
    }
   ],
   "source": [
    "# Replace outliers with mean values and concatenate\n",
    "\n",
    "import scipy.io\n",
    "import numpy as np\n",
    "import pandas as pd\n",
    "\n",
    "# Load the time-series data (.mat files)\n",
    "soc1 = scipy.io.loadmat('/home/adam/Desktop/projects/unitary/pipeline_2023/data/Oliver_data/SocStroop1_ts.mat')\n",
    "soc2 = scipy.io.loadmat('/home/adam/Desktop/projects/unitary/pipeline_2023/data/Oliver_data/SocStroop2_ts.mat')\n",
    "stop = scipy.io.loadmat('/home/adam/Desktop/projects/unitary/pipeline_2023/data/Oliver_data/StopSignal_ts.mat')\n",
    "nback = scipy.io.loadmat('/home/adam/Desktop/projects/unitary/pipeline_2023/data/Oliver_data/NBack_ts.mat')\n",
    "\n",
    "# Access the struct containing an array of cells\n",
    "soc1 = soc1['roi_ts']\n",
    "soc2 = soc2['roi_ts']\n",
    "stop = stop['roi_ts']\n",
    "nback = nback['roi_ts']\n",
    "\n",
    "# Load outliers (.mat files)\n",
    "soc1_outs = scipy.io.loadmat('/home/adam/Desktop/projects/unitary/pipeline_2023/data/outliers/stroop1_outliers.mat')\n",
    "soc2_outs = scipy.io.loadmat('/home/adam/Desktop/projects/unitary/pipeline_2023/data/outliers/stroop2_outliers.mat')\n",
    "stop_outs = scipy.io.loadmat('/home/adam/Desktop/projects/unitary/pipeline_2023/data/outliers/stopsignal_outliers.mat')\n",
    "nback_outs = scipy.io.loadmat('/home/adam/Desktop/projects/unitary/pipeline_2023/data/outliers/nback_outliers.mat')\n",
    "\n",
    "# Access the struct containing an array of cells\n",
    "soc1_outs = soc1_outs['outliers']\n",
    "soc2_outs = soc2_outs['outliers']\n",
    "stop_outs = stop_outs['outliers']\n",
    "nback_outs = nback_outs['outliers']\n",
    "\n",
    "# Replace outlier frames with mean of time-series\n",
    "\n",
    "for sub in range(0,75):\n",
    "    # soc1\n",
    "    outlier_frames = np.where(soc1_outs[0,sub]==1)[0]\n",
    "    if len(outlier_frames) > 0:\n",
    "        for frame in outlier_frames:\n",
    "            for roi in range(0,414):\n",
    "                soc1[0,sub][frame,roi] = soc1[0,sub][:,roi].mean()\n",
    "\n",
    "    # soc2\n",
    "    outlier_frames = np.where(soc2_outs[0,sub]==1)[0]\n",
    "    if len(outlier_frames) > 0:\n",
    "        for frame in outlier_frames:\n",
    "            for roi in range(0,414):\n",
    "                soc2[0,sub][frame,roi] = soc2[0,sub][:,roi].mean()\n",
    "\n",
    "for sub in range(0,94):\n",
    "    # nback\n",
    "    outlier_frames = np.where(nback_outs[0,sub]==1)[0]\n",
    "    if len(outlier_frames) > 0:\n",
    "        for frame in outlier_frames:\n",
    "            for roi in range(0,414):\n",
    "                nback[0,sub][frame,roi] = nback[0,sub][:,roi].mean()\n",
    "\n",
    "    # stop\n",
    "    outlier_frames = np.where(stop_outs[0,sub]==1)[0]\n",
    "    if len(outlier_frames) > 0:\n",
    "        for frame in outlier_frames:\n",
    "            for roi in range(0,414):\n",
    "                stop[0,sub][frame,roi] = stop[0,sub][:,roi].mean()\n",
    "\n",
    "print('Done replacing outlier frames with mean roi values')\n",
    "\n",
    "# Remove unused subs for stop and nback\n",
    "if len(stop[0]) == len(nback[0]) == 94:\n",
    "    conversion = pd.read_csv('/home/adam/Desktop/projects/unitary/pipeline_2023/subs/94_2_75_convert.csv', \n",
    "                             dtype={'Subject': str}, header=None)\n",
    "    stop = stop[0,conversion.iloc[:,1]==1]\n",
    "    nback = nback[0,conversion.iloc[:,1]==1]\n",
    "\n",
    "# Concatenate time-series data\n",
    "all_concatenated = np.zeros((522, 414, 75))\n",
    "\n",
    "if len(soc1[0]) == len(soc2[0]) == len(stop) == len(nback) == 75:\n",
    "    for sub in range(0,75):\n",
    "        all_concatenated[:,:,sub] = np.concatenate((soc1[0,sub], soc2[0,sub],\n",
    "                                                   stop[sub], nback[sub]), axis=0)\n",
    "\n",
    "print('Done concatenating time-series of all tasks!')\n",
    "print(f'Final shape is {all_concatenated.shape}')"
   ]
  },
  {
   "cell_type": "code",
   "execution_count": 192,
   "id": "27feb429-8f97-4722-a0e6-3d17fce02d1b",
   "metadata": {},
   "outputs": [],
   "source": [
    "from nilearn.connectome import ConnectivityMeasure\n",
    "import nilearn\n",
    "import warnings\n",
    "\n",
    "warnings.filterwarnings(\"ignore\")\n",
    "for sub in range(0,75):\n",
    "    temp = all_concatenated[:,:,sub]\n",
    "    \n",
    "    FC = ConnectivityMeasure(kind='correlation')\n",
    "    FC = FC.fit_transform([temp])[0]\n",
    "\n",
    "    id = str(sub+1).zfill(3)\n",
    "    pd.DataFrame(FC).to_csv(f'/home/adam/Desktop/projects/unitary/pipeline_2023/data/Oliver_data/fc_results/Concatenated/new_csvs/sub{id}-All.csv',index=False)\n"
   ]
  },
  {
   "cell_type": "code",
   "execution_count": 204,
   "id": "c62bf697-acd7-4b0d-ba89-f44ac19e9847",
   "metadata": {},
   "outputs": [
    {
     "data": {
      "image/png": "[encoded data removed]",
      "text/plain": [
       "<Figure size 432x288 with 1 Axes>"
      ]
     },
     "metadata": {
      "needs_background": "light"
     },
     "output_type": "display_data"
    }
   ],
   "source": [
    "from matplotlib import pyplot as plt\n",
    "\n",
    "base_dir = '/home/adam/Desktop/projects/unitary/pipeline_2023/data/Oliver_data/fc_results/Concatenated'\n",
    "similarity = np.zeros((75))\n",
    "for sub in range(0,75):\n",
    "    id = str(sub+1).zfill(3)\n",
    "    old = pd.read_csv(f'{base_dir}/csvs/sub{id}-All.csv',dtype={'Subject': str},header=None)\n",
    "    old = old.values\n",
    "    new = pd.read_csv(f'{base_dir}/new_csvs/sub{id}-All.csv',dtype={'Subject': str})\n",
    "    new = new.values\n",
    "    \n",
    "    # Calculate the correlation coefficient between the two matrices\n",
    "    correlation_matrix = np.corrcoef(old.flatten(), new.flatten())\n",
    "\n",
    "    # The correlation coefficient is in the upper-left corner of the correlation matrix\n",
    "    similarity[sub] = correlation_matrix[0, 1]\n",
    "\n",
    "plt.plot(range(0,75), similarity)\n",
    "\n",
    "# Add labels and title\n",
    "plt.xlabel('Subjects')\n",
    "plt.ylabel('Similarity between old and new methods')\n",
    "\n",
    "# Show the graph\n",
    "plt.show()"
   ]
  }
 ],
 "metadata": {
  "kernelspec": {
   "display_name": "Python 3 (ipykernel)",
   "language": "python",
   "name": "python3"
  },
  "language_info": {
   "codemirror_mode": {
    "name": "ipython",
    "version": 3
   },
   "file_extension": ".py",
   "mimetype": "text/x-python",
   "name": "python",
   "nbconvert_exporter": "python",
   "pygments_lexer": "ipython3",
   "version": "3.9.12"
  }
 },
 "nbformat": 4,
 "nbformat_minor": 5
}
